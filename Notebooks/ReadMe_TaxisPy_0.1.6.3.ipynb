{
 "cells": [
  {
   "cell_type": "markdown",
   "metadata": {},
   "source": [
    "# Running TaxisPy 0.1.6.3\n",
    "\n",
    "This JN was extracted from the docker image m1vg/taxispy. Execute the code below in a Terminal to access the original version:\n",
    "\n",
    "docker pull m1vg/taxispy\n",
    "\n",
    "docker run -d -p 8888:8888 m1vg/taxispy"
   ]
  },
  {
   "cell_type": "markdown",
   "metadata": {},
   "source": [
    "To run the software, hit **shift** and **return** at the same time on the cell below. A user interface will appear. Follow the instructions provided by the user interface. Refer to the **TaxisPy** tutorial under **/Tutorial** for further details.  "
   ]
  },
  {
   "cell_type": "code",
   "execution_count": null,
   "metadata": {},
   "outputs": [],
   "source": [
    "from taxispy import InitGui\n",
    "y = InitGui.UserInterface()\n",
    "y.interface"
   ]
  },
  {
   "cell_type": "markdown",
   "metadata": {},
   "source": [
    "# Splitting Videos into Frames"
   ]
  },
  {
   "cell_type": "markdown",
   "metadata": {},
   "source": [
    "To run the splitter, hit **shift** and  **return** at the same time on the cell below:"
   ]
  },
  {
   "cell_type": "code",
   "execution_count": null,
   "metadata": {},
   "outputs": [],
   "source": [
    "from taxispy import splitter\n",
    "w = splitter.Splitter()\n",
    "w.interface"
   ]
  },
  {
   "cell_type": "markdown",
   "metadata": {},
   "source": [
    "An example video is provided under the path: **/Documents/SplitterExample/CB2.mov**\n",
    "\n",
    "As Output path you can use for instance **/Documents/SplitterExample/CB2**\n",
    "\n",
    "Note: Make sure that your **Source** and **Output** paths do not contain white spaces at the start of the string (leading whitespaces)"
   ]
  },
  {
   "cell_type": "markdown",
   "metadata": {},
   "source": [
    "This Docker Image was built on 21 March 2020"
   ]
  }
 ],
 "metadata": {
  "kernelspec": {
   "display_name": "taxispy-env",
   "language": "python",
   "name": "python3"
  },
  "language_info": {
   "codemirror_mode": {
    "name": "ipython",
    "version": 3
   },
   "file_extension": ".py",
   "mimetype": "text/x-python",
   "name": "python",
   "nbconvert_exporter": "python",
   "pygments_lexer": "ipython3",
   "version": "3.13.3"
  }
 },
 "nbformat": 4,
 "nbformat_minor": 2
}
